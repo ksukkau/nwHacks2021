{
 "cells": [
  {
   "cell_type": "code",
   "execution_count": 1,
   "metadata": {},
   "outputs": [],
   "source": [
    "#Imports\n",
    "import pandas as pd\n",
    "import snscrape.modules.twitter as sntwitter"
   ]
  },
  {
   "cell_type": "code",
   "execution_count": 2,
   "metadata": {},
   "outputs": [],
   "source": [
    "#Initialize Tweet List\n",
    "fake_vac_tweets_list = []\n",
    "funny_tweet_list = []\n",
    "text_list = []"
   ]
  },
  {
   "cell_type": "code",
   "execution_count": 3,
   "metadata": {},
   "outputs": [],
   "source": [
    "#Pull tweets from Twitter API that contain \"Fake vaccinations\" in text of post\n",
    "for i, tweet in enumerate(sntwitter.TwitterSearchScraper('Fake vaccinations').get_items()):\n",
    "    if i > 999:\n",
    "        break\n",
    "    fake_vac_tweets_list.append([tweet.date, tweet.id, tweet.content, tweet.user.username, tweet.replyCount, tweet.retweetCount, tweet.likeCount, tweet.url])\n",
    "    text_list.append(tweet.content)"
   ]
  },
  {
   "cell_type": "code",
   "execution_count": 4,
   "metadata": {},
   "outputs": [],
   "source": [
    "#Create DataFrame\n",
    "fake_vac_df = pd.DataFrame(fake_vac_tweets_list, columns=['Datetime', 'Tweet Id', 'Text', 'Username', 'Reply Count', 'Retweet Count', 'Like Count', 'URL'])"
   ]
  },
  {
   "cell_type": "code",
   "execution_count": 5,
   "metadata": {},
   "outputs": [
    {
     "data": {
      "text/html": [
       "<div>\n",
       "<style scoped>\n",
       "    .dataframe tbody tr th:only-of-type {\n",
       "        vertical-align: middle;\n",
       "    }\n",
       "\n",
       "    .dataframe tbody tr th {\n",
       "        vertical-align: top;\n",
       "    }\n",
       "\n",
       "    .dataframe thead th {\n",
       "        text-align: right;\n",
       "    }\n",
       "</style>\n",
       "<table border=\"1\" class=\"dataframe\">\n",
       "  <thead>\n",
       "    <tr style=\"text-align: right;\">\n",
       "      <th></th>\n",
       "      <th>Datetime</th>\n",
       "      <th>Tweet Id</th>\n",
       "      <th>Text</th>\n",
       "      <th>Username</th>\n",
       "      <th>Reply Count</th>\n",
       "      <th>Retweet Count</th>\n",
       "      <th>Like Count</th>\n",
       "      <th>URL</th>\n",
       "    </tr>\n",
       "  </thead>\n",
       "  <tbody>\n",
       "    <tr>\n",
       "      <th>0</th>\n",
       "      <td>2021-01-10 18:59:37+00:00</td>\n",
       "      <td>1348343758346199043</td>\n",
       "      <td>now your being controlled by #fakepolls #faken...</td>\n",
       "      <td>bigbadant</td>\n",
       "      <td>0</td>\n",
       "      <td>0</td>\n",
       "      <td>1</td>\n",
       "      <td>https://twitter.com/bigbadant/status/134834375...</td>\n",
       "    </tr>\n",
       "    <tr>\n",
       "      <th>1</th>\n",
       "      <td>2021-01-10 18:56:14+00:00</td>\n",
       "      <td>1348342904289431556</td>\n",
       "      <td>@guyjeff1 @medicalfollower ils ont officiellem...</td>\n",
       "      <td>LoveIsAHoax6_7</td>\n",
       "      <td>0</td>\n",
       "      <td>1</td>\n",
       "      <td>0</td>\n",
       "      <td>https://twitter.com/LoveIsAHoax6_7/status/1348...</td>\n",
       "    </tr>\n",
       "    <tr>\n",
       "      <th>2</th>\n",
       "      <td>2021-01-10 17:19:53+00:00</td>\n",
       "      <td>1348318658813050884</td>\n",
       "      <td>@tweeterabhinav @dchaurasia2312 everything is ...</td>\n",
       "      <td>Ik0Nihcas</td>\n",
       "      <td>0</td>\n",
       "      <td>0</td>\n",
       "      <td>0</td>\n",
       "      <td>https://twitter.com/Ik0Nihcas/status/134831865...</td>\n",
       "    </tr>\n",
       "    <tr>\n",
       "      <th>3</th>\n",
       "      <td>2021-01-10 16:29:56+00:00</td>\n",
       "      <td>1348306088869961728</td>\n",
       "      <td>@barrysheerman get a grip bazza. trump was ban...</td>\n",
       "      <td>Halo77993716</td>\n",
       "      <td>0</td>\n",
       "      <td>0</td>\n",
       "      <td>0</td>\n",
       "      <td>https://twitter.com/Halo77993716/status/134830...</td>\n",
       "    </tr>\n",
       "    <tr>\n",
       "      <th>4</th>\n",
       "      <td>2021-01-10 15:55:17+00:00</td>\n",
       "      <td>1348297368488321026</td>\n",
       "      <td>@justin_ling @vicecanada @shannonstubbsmp this...</td>\n",
       "      <td>JoeSeven</td>\n",
       "      <td>0</td>\n",
       "      <td>0</td>\n",
       "      <td>0</td>\n",
       "      <td>https://twitter.com/JoeSeven/status/1348297368...</td>\n",
       "    </tr>\n",
       "    <tr>\n",
       "      <th>...</th>\n",
       "      <td>...</td>\n",
       "      <td>...</td>\n",
       "      <td>...</td>\n",
       "      <td>...</td>\n",
       "      <td>...</td>\n",
       "      <td>...</td>\n",
       "      <td>...</td>\n",
       "      <td>...</td>\n",
       "    </tr>\n",
       "    <tr>\n",
       "      <th>995</th>\n",
       "      <td>2020-12-08 18:23:52+00:00</td>\n",
       "      <td>1336375962146119681</td>\n",
       "      <td>@staying_in_2020 @andywebster @kevinnash82 @cl...</td>\n",
       "      <td>kerry_kriel</td>\n",
       "      <td>1</td>\n",
       "      <td>0</td>\n",
       "      <td>0</td>\n",
       "      <td>https://twitter.com/kerry_kriel/status/1336375...</td>\n",
       "    </tr>\n",
       "    <tr>\n",
       "      <th>996</th>\n",
       "      <td>2020-12-08 16:10:43+00:00</td>\n",
       "      <td>1336342454430154752</td>\n",
       "      <td>the fake news media is already promoting force...</td>\n",
       "      <td>ChristophersKn1</td>\n",
       "      <td>0</td>\n",
       "      <td>0</td>\n",
       "      <td>1</td>\n",
       "      <td>https://twitter.com/ChristophersKn1/status/133...</td>\n",
       "    </tr>\n",
       "    <tr>\n",
       "      <th>997</th>\n",
       "      <td>2020-12-08 16:08:53+00:00</td>\n",
       "      <td>1336341989701390337</td>\n",
       "      <td>trump couldn't order enough vaccinations becau...</td>\n",
       "      <td>livetweettweet</td>\n",
       "      <td>4</td>\n",
       "      <td>1</td>\n",
       "      <td>3</td>\n",
       "      <td>https://twitter.com/livetweettweet/status/1336...</td>\n",
       "    </tr>\n",
       "    <tr>\n",
       "      <th>998</th>\n",
       "      <td>2020-12-08 15:40:28+00:00</td>\n",
       "      <td>1336334841759985668</td>\n",
       "      <td>@nytimes thank you, pres trump! you are a very...</td>\n",
       "      <td>bkFreedomForAll</td>\n",
       "      <td>0</td>\n",
       "      <td>1</td>\n",
       "      <td>1</td>\n",
       "      <td>https://twitter.com/bkFreedomForAll/status/133...</td>\n",
       "    </tr>\n",
       "    <tr>\n",
       "      <th>999</th>\n",
       "      <td>2020-12-08 14:39:08+00:00</td>\n",
       "      <td>1336319406750752768</td>\n",
       "      <td>imagine your response to seeing the first vacc...</td>\n",
       "      <td>DamCou</td>\n",
       "      <td>5</td>\n",
       "      <td>2</td>\n",
       "      <td>34</td>\n",
       "      <td>https://twitter.com/DamCou/status/133631940675...</td>\n",
       "    </tr>\n",
       "  </tbody>\n",
       "</table>\n",
       "<p>1000 rows × 8 columns</p>\n",
       "</div>"
      ],
      "text/plain": [
       "                     Datetime             Tweet Id  \\\n",
       "0   2021-01-10 18:59:37+00:00  1348343758346199043   \n",
       "1   2021-01-10 18:56:14+00:00  1348342904289431556   \n",
       "2   2021-01-10 17:19:53+00:00  1348318658813050884   \n",
       "3   2021-01-10 16:29:56+00:00  1348306088869961728   \n",
       "4   2021-01-10 15:55:17+00:00  1348297368488321026   \n",
       "..                        ...                  ...   \n",
       "995 2020-12-08 18:23:52+00:00  1336375962146119681   \n",
       "996 2020-12-08 16:10:43+00:00  1336342454430154752   \n",
       "997 2020-12-08 16:08:53+00:00  1336341989701390337   \n",
       "998 2020-12-08 15:40:28+00:00  1336334841759985668   \n",
       "999 2020-12-08 14:39:08+00:00  1336319406750752768   \n",
       "\n",
       "                                                  Text         Username  \\\n",
       "0    now your being controlled by #fakepolls #faken...        bigbadant   \n",
       "1    @guyjeff1 @medicalfollower ils ont officiellem...   LoveIsAHoax6_7   \n",
       "2    @tweeterabhinav @dchaurasia2312 everything is ...        Ik0Nihcas   \n",
       "3    @barrysheerman get a grip bazza. trump was ban...     Halo77993716   \n",
       "4    @justin_ling @vicecanada @shannonstubbsmp this...         JoeSeven   \n",
       "..                                                 ...              ...   \n",
       "995  @staying_in_2020 @andywebster @kevinnash82 @cl...      kerry_kriel   \n",
       "996  the fake news media is already promoting force...  ChristophersKn1   \n",
       "997  trump couldn't order enough vaccinations becau...   livetweettweet   \n",
       "998  @nytimes thank you, pres trump! you are a very...  bkFreedomForAll   \n",
       "999  imagine your response to seeing the first vacc...           DamCou   \n",
       "\n",
       "     Reply Count  Retweet Count  Like Count  \\\n",
       "0              0              0           1   \n",
       "1              0              1           0   \n",
       "2              0              0           0   \n",
       "3              0              0           0   \n",
       "4              0              0           0   \n",
       "..           ...            ...         ...   \n",
       "995            1              0           0   \n",
       "996            0              0           1   \n",
       "997            4              1           3   \n",
       "998            0              1           1   \n",
       "999            5              2          34   \n",
       "\n",
       "                                                   URL  \n",
       "0    https://twitter.com/bigbadant/status/134834375...  \n",
       "1    https://twitter.com/LoveIsAHoax6_7/status/1348...  \n",
       "2    https://twitter.com/Ik0Nihcas/status/134831865...  \n",
       "3    https://twitter.com/Halo77993716/status/134830...  \n",
       "4    https://twitter.com/JoeSeven/status/1348297368...  \n",
       "..                                                 ...  \n",
       "995  https://twitter.com/kerry_kriel/status/1336375...  \n",
       "996  https://twitter.com/ChristophersKn1/status/133...  \n",
       "997  https://twitter.com/livetweettweet/status/1336...  \n",
       "998  https://twitter.com/bkFreedomForAll/status/133...  \n",
       "999  https://twitter.com/DamCou/status/133631940675...  \n",
       "\n",
       "[1000 rows x 8 columns]"
      ]
     },
     "execution_count": 5,
     "metadata": {},
     "output_type": "execute_result"
    }
   ],
   "source": [
    "#Convert Text column to lowercase for searching purposes\n",
    "fake_vac_df['Text'] = fake_vac_df['Text'].str.lower()\n",
    "fake_vac_df"
   ]
  },
  {
   "cell_type": "code",
   "execution_count": 6,
   "metadata": {},
   "outputs": [],
   "source": [
    "# #Calculate number of tweets containg various words\n",
    "# fear_num = fake_vac_df['Text'][fake_vac_df['Text'].str.contains('fear')==True].count()\n",
    "# hoax_num = fake_vac_df['Text'][fake_vac_df['Text'].str.contains('hoax')==True].count()\n",
    "# microchip_num = fake_vac_df['Text'][fake_vac_df['Text'].str.contains('microchip')==True].count()\n",
    "# conspiracy_num = fake_vac_df['Text'][fake_vac_df['Text'].str.contains('conspiracy')==True].count()\n",
    "# gates_num = fake_vac_df['Text'][(fake_vac_df['Text'].str.contains('bill gates')==True)].count()"
   ]
  },
  {
   "cell_type": "code",
   "execution_count": 7,
   "metadata": {},
   "outputs": [],
   "source": [
    "# #Create bargraph\n",
    "# import matplotlib.pyplot as plt\n",
    "# fig = plt.figure()\n",
    "# ax = fig.add_axes([0,1,2,1])\n",
    "# ax.set_title('1000 Tweets containing Fake vaccinations Since 12/08/2020')\n",
    "# ax.set_ylabel('Number of Occurences')\n",
    "# labels = ['Contains Fear', 'Contains Hoax', 'Contains Microchip', 'Contains Conspiracy', 'Contains Bill Gates']\n",
    "# count_tweets = [fear_num, hoax_num, microchip_num, conspiracy_num, gates_num]\n",
    "# ax.bar(labels,count_tweets)\n",
    "# plt.show()"
   ]
  },
  {
   "cell_type": "markdown",
   "metadata": {},
   "source": [
    "# Fuzzy Matching Stuff"
   ]
  },
  {
   "cell_type": "code",
   "execution_count": 8,
   "metadata": {},
   "outputs": [
    {
     "ename": "SyntaxError",
     "evalue": "invalid syntax (<ipython-input-8-c2f6b963bff0>, line 2)",
     "output_type": "error",
     "traceback": [
      "\u001b[0;36m  File \u001b[0;32m\"<ipython-input-8-c2f6b963bff0>\"\u001b[0;36m, line \u001b[0;32m2\u001b[0m\n\u001b[0;31m    pip install fuzzywuzzy\u001b[0m\n\u001b[0m        ^\u001b[0m\n\u001b[0;31mSyntaxError\u001b[0m\u001b[0;31m:\u001b[0m invalid syntax\n"
     ]
    }
   ],
   "source": [
    "#Install fuzztwuzzy \n",
    "pip install fuzzywuzzy"
   ]
  },
  {
   "cell_type": "code",
   "execution_count": 9,
   "metadata": {},
   "outputs": [
    {
     "name": "stderr",
     "output_type": "stream",
     "text": [
      "/opt/anaconda3/lib/python3.8/site-packages/fuzzywuzzy/fuzz.py:11: UserWarning: Using slow pure-python SequenceMatcher. Install python-Levenshtein to remove this warning\n",
      "  warnings.warn('Using slow pure-python SequenceMatcher. Install python-Levenshtein to remove this warning')\n"
     ]
    }
   ],
   "source": [
    "#Imports\n",
    "from fuzzywuzzy import fuzz"
   ]
  },
  {
   "cell_type": "code",
   "execution_count": 10,
   "metadata": {},
   "outputs": [],
   "source": [
    "#Method to determine if fuzzymatch or not\n",
    "def fuzzy_match(str1: str, str2: str) -> bool:\n",
    "    token_set_ratio = fuzz.token_set_ratio(str1, str2)\n",
    "    if str2 in str1:\n",
    "        return True\n",
    "    if token_set_ratio > 55:\n",
    "        return True\n",
    "    else:\n",
    "        return False"
   ]
  },
  {
   "cell_type": "code",
   "execution_count": 11,
   "metadata": {},
   "outputs": [],
   "source": [
    "#Calculate number of tweets containg various words\n",
    "#Should pass String comparing to in lower case because made all entries in Text column lowercase\n",
    "fear_num = fake_vac_df['Text'][fake_vac_df['Text'].apply(lambda str1: fuzzy_match(str1, 'fear'))==True].count()\n",
    "hoax_num = fake_vac_df['Text'][fake_vac_df['Text'].apply(lambda str1: fuzzy_match(str1, 'hoax'))==True].count()\n",
    "microchip_num = fake_vac_df['Text'][fake_vac_df['Text'].apply(lambda str1: fuzzy_match(str1, 'microchip'))==True].count()\n",
    "conspiracy_num = fake_vac_df['Text'][fake_vac_df['Text'].apply(lambda str1: fuzzy_match(str1, 'conspiracy'))==True].count()\n",
    "gates_num = fake_vac_df['Text'][fake_vac_df['Text'].apply(lambda str1: fuzzy_match(str1, 'bill gates'))==True].count()\n",
    "funny_tweet_list.append(fake_vac_tweets_list[212])"
   ]
  },
  {
   "cell_type": "code",
   "execution_count": 12,
   "metadata": {
    "scrolled": false
   },
   "outputs": [
    {
     "data": {
      "image/png": "[encoded data removed]",
      "text/plain": [
       "<Figure size 432x288 with 1 Axes>"
      ]
     },
     "metadata": {
      "needs_background": "light"
     },
     "output_type": "display_data"
    }
   ],
   "source": [
    "#Create bargraph\n",
    "import matplotlib.pyplot as plt\n",
    "fig = plt.figure()\n",
    "ax = fig.add_axes([0,1,2,1])\n",
    "ax.set_title('1000 Tweets containing Fake vaccinations Since 12/08/2020')\n",
    "ax.set_ylabel('Number of Occurences')\n",
    "labels = ['Contains Fear', 'Contains Hoax', 'Contains Microchip', 'Contains Conspiracy', 'Contains Bill Gates']\n",
    "count_tweets = [fear_num, hoax_num, microchip_num, conspiracy_num, gates_num]\n",
    "ax.bar(labels,count_tweets, edgecolor='black')\n",
    "plt.show()"
   ]
  },
  {
   "cell_type": "code",
   "execution_count": 13,
   "metadata": {
    "scrolled": true
   },
   "outputs": [
    {
     "data": {
      "image/png": "[encoded data removed]",
      "text/plain": [
       "<Figure size 432x288 with 1 Axes>"
      ]
     },
     "metadata": {
      "needs_background": "light"
     },
     "output_type": "display_data"
    }
   ],
   "source": [
    "trump_num = fake_vac_df['Text'][fake_vac_df['Text'].apply(lambda str1: fuzzy_match(str1, 'trump'))==True].count()\n",
    "biden_num = fake_vac_df['Text'][fake_vac_df['Text'].apply(lambda str1: fuzzy_match(str1, 'biden'))==True].count()\n",
    "fauci_num = fake_vac_df['Text'][fake_vac_df['Text'].apply(lambda str1: fuzzy_match(str1, 'fauci'))==True].count()\n",
    "harris_num = fake_vac_df['Text'][fake_vac_df['Text'].apply(lambda str1: fuzzy_match(str1, 'harris'))==True].count()\n",
    "pence_num = fake_vac_df['Text'][fake_vac_df['Text'].apply(lambda str1: fuzzy_match(str1, 'pence'))==True].count()\n",
    "gates_num = fake_vac_df['Text'][fake_vac_df['Text'].apply(lambda str1: fuzzy_match(str1, 'bill gates'))==True].count()\n",
    "\n",
    "import matplotlib.pyplot as plt\n",
    "fig = plt.figure()\n",
    "ax = fig.add_axes([0,1,2,1])\n",
    "ax.set_title('1000 Tweets containing Fake vaccinations Since 12/08/2020')\n",
    "ax.set_ylabel('Number of Occurences')\n",
    "labels = ['Contains Trump', 'Contains Biden', 'Contains Fauci', 'Contains Harris', 'Contains Pence']\n",
    "count_tweets = [trump_num, biden_num, fauci_num, harris_num, pence_num]\n",
    "ax.bar(labels,count_tweets, edgecolor='black')\n",
    "plt.show()"
   ]
  },
  {
   "cell_type": "code",
   "execution_count": 14,
   "metadata": {},
   "outputs": [
    {
     "data": {
      "image/png": "[encoded data removed]",
      "text/plain": [
       "<Figure size 432x288 with 1 Axes>"
      ]
     },
     "metadata": {},
     "output_type": "display_data"
    }
   ],
   "source": [
    "import matplotlib.pyplot as plt\n",
    "\n",
    "# Pie chart, where the slices will be ordered and plotted counter-clockwise:\n",
    "sum = trump_num + biden_num + fauci_num + harris_num + pence_num + gates_num\n",
    "labels = 'Trump', 'Biden', 'Fauci', 'Harris', 'Pence', 'Gates'\n",
    "sizes = [100 * trump_num / sum, 100 * biden_num / sum, 100 * fauci_num / sum, 100 * harris_num / sum, 100 * pence_num / sum, 100 * gates_num / sum]\n",
    "explode = (0.1 , 0, 0, 0, 0, 0) \n",
    "\n",
    "fig1, ax1 = plt.subplots()\n",
    "ax1.pie(sizes, explode=explode, labels=labels, autopct='%1.1f%%',\n",
    "        shadow=True, startangle=90)\n",
    "ax1.axis('equal')  # Equal aspect ratio ensures that pie is drawn as a circle.\n",
    "ax1.set_title('Tweets that Mention People')\n",
    "plt.show()"
   ]
  },
  {
   "cell_type": "markdown",
   "metadata": {},
   "source": [
    "## Tried to make pie chart of tweets mentioning trump"
   ]
  },
  {
   "cell_type": "code",
   "execution_count": 15,
   "metadata": {},
   "outputs": [],
   "source": [
    "# trump_df = fake_vac_df[fake_vac_df['Text'].apply(lambda str1: fuzzy_match(str1, 'trump'))==True]\n",
    "# fear_num = trump_df['Text'][trump_df['Text'].apply(lambda str1: fuzzy_match(str1, 'fear'))==True].count()\n",
    "# hoax_num = trump_df['Text'][trump_df['Text'].apply(lambda str1: fuzzy_match(str1, 'hoax'))==True].count()\n",
    "# rigged_num = trump_df['Text'][trump_df['Text'].apply(lambda str1: fuzzy_match(str1, 'rigged'))==True].count()\n",
    "# conspiracy_num = trump_df['Text'][trump_df['Text'].apply(lambda str1: fuzzy_match(str1, 'conspiracy'))==True].count()\n",
    "# gates_num = trump_df['Text'][trump_df['Text'].apply(lambda str1: fuzzy_match(str1, 'bill gates'))==True].count()\n",
    "# print(fear_num, hoax_num, rigged_num, conspiracy_num, gates_num)\n",
    "# trump_df"
   ]
  },
  {
   "cell_type": "markdown",
   "metadata": {},
   "source": [
    "## Tweet List At Momment"
   ]
  },
  {
   "cell_type": "code",
   "execution_count": 71,
   "metadata": {},
   "outputs": [
    {
     "name": "stdout",
     "output_type": "stream",
     "text": [
      "[datetime.datetime(2021, 1, 3, 14, 53, 43, tzinfo=datetime.timezone.utc), 1345745158353117194, '@realDonaldTrump You first call it fake then you’re boasting about the fact that the vaccines are being delivered. WTF are you delivering vaccinations for something that isn’t “ REAL “', 'Mohamme28143483', 0, 0, 0]\n",
      "\n"
     ]
    }
   ],
   "source": [
    "#Prints out tweets in list\n",
    "for entry in funny_tweet_list:\n",
    "    print(entry)\n",
    "    print()"
   ]
  },
  {
   "cell_type": "markdown",
   "metadata": {},
   "source": [
    "## Top tweets"
   ]
  },
  {
   "cell_type": "code",
   "execution_count": 79,
   "metadata": {},
   "outputs": [],
   "source": [
    "#Replaces missing values with 0\n",
    "fake_vac_df.fillna(value=0.0, inplace=True)\n",
    "#Sorts DataFrame according to Like Count, Retweet Count, and Reply Count\n",
    "fake_vac_df.sort_values(['Like Count', 'Retweet Count', 'Reply Count'], ascending=False, inplace=True)"
   ]
  },
  {
   "cell_type": "code",
   "execution_count": 83,
   "metadata": {},
   "outputs": [
    {
     "data": {
      "text/html": [
       "<div>\n",
       "<style scoped>\n",
       "    .dataframe tbody tr th:only-of-type {\n",
       "        vertical-align: middle;\n",
       "    }\n",
       "\n",
       "    .dataframe tbody tr th {\n",
       "        vertical-align: top;\n",
       "    }\n",
       "\n",
       "    .dataframe thead th {\n",
       "        text-align: right;\n",
       "    }\n",
       "</style>\n",
       "<table border=\"1\" class=\"dataframe\">\n",
       "  <thead>\n",
       "    <tr style=\"text-align: right;\">\n",
       "      <th></th>\n",
       "      <th>Datetime</th>\n",
       "      <th>Tweet Id</th>\n",
       "      <th>Text</th>\n",
       "      <th>Username</th>\n",
       "      <th>Reply Count</th>\n",
       "      <th>Retweet Count</th>\n",
       "      <th>Like Count</th>\n",
       "    </tr>\n",
       "  </thead>\n",
       "  <tbody>\n",
       "    <tr>\n",
       "      <th>550</th>\n",
       "      <td>2020-12-21 20:33:42+00:00</td>\n",
       "      <td>1341119678177939456</td>\n",
       "      <td>i wonder if we can calculate how many black ci...</td>\n",
       "      <td>ScottAdamsSays</td>\n",
       "      <td>165</td>\n",
       "      <td>400</td>\n",
       "      <td>2481</td>\n",
       "    </tr>\n",
       "    <tr>\n",
       "      <th>354</th>\n",
       "      <td>2020-12-29 03:34:23+00:00</td>\n",
       "      <td>1343762260301410304</td>\n",
       "      <td>from scams soliciting donations for fake chari...</td>\n",
       "      <td>amyklobuchar</td>\n",
       "      <td>54</td>\n",
       "      <td>201</td>\n",
       "      <td>1120</td>\n",
       "    </tr>\n",
       "    <tr>\n",
       "      <th>312</th>\n",
       "      <td>2020-12-30 15:00:20+00:00</td>\n",
       "      <td>1344297273891590146</td>\n",
       "      <td>non-kinetic war with china, with whiteboard, s...</td>\n",
       "      <td>ScottAdamsSays</td>\n",
       "      <td>106</td>\n",
       "      <td>164</td>\n",
       "      <td>476</td>\n",
       "    </tr>\n",
       "    <tr>\n",
       "      <th>656</th>\n",
       "      <td>2020-12-19 13:42:01+00:00</td>\n",
       "      <td>1340291298398486529</td>\n",
       "      <td>➡️ il s'agissait donc d'un malaise/évanouissem...</td>\n",
       "      <td>FAKE_Investiga</td>\n",
       "      <td>3</td>\n",
       "      <td>50</td>\n",
       "      <td>409</td>\n",
       "    </tr>\n",
       "    <tr>\n",
       "      <th>360</th>\n",
       "      <td>2020-12-29 02:32:31+00:00</td>\n",
       "      <td>1343746691367895041</td>\n",
       "      <td>passé l'émotion et après analyse, il est clair...</td>\n",
       "      <td>christo_comte</td>\n",
       "      <td>17</td>\n",
       "      <td>66</td>\n",
       "      <td>313</td>\n",
       "    </tr>\n",
       "    <tr>\n",
       "      <th>389</th>\n",
       "      <td>2020-12-27 19:03:39+00:00</td>\n",
       "      <td>1343271342985019393</td>\n",
       "      <td>i overheard a convo between 2 men. one of the ...</td>\n",
       "      <td>TheMindsculpter</td>\n",
       "      <td>43</td>\n",
       "      <td>23</td>\n",
       "      <td>215</td>\n",
       "    </tr>\n",
       "    <tr>\n",
       "      <th>693</th>\n",
       "      <td>2020-12-19 00:12:19+00:00</td>\n",
       "      <td>1340087528838344704</td>\n",
       "      <td>more and more fake vaccinations are being give...</td>\n",
       "      <td>ChrisWickNews</td>\n",
       "      <td>9</td>\n",
       "      <td>48</td>\n",
       "      <td>199</td>\n",
       "    </tr>\n",
       "    <tr>\n",
       "      <th>989</th>\n",
       "      <td>2020-12-09 02:03:39+00:00</td>\n",
       "      <td>1336491671505268742</td>\n",
       "      <td>in case you doubt it, do this at home: 1) go t...</td>\n",
       "      <td>PeterHotez</td>\n",
       "      <td>18</td>\n",
       "      <td>34</td>\n",
       "      <td>182</td>\n",
       "    </tr>\n",
       "    <tr>\n",
       "      <th>967</th>\n",
       "      <td>2020-12-09 15:48:52+00:00</td>\n",
       "      <td>1336699342116114432</td>\n",
       "      <td>several covid19 vaccinations have been announc...</td>\n",
       "      <td>MahaCyber1</td>\n",
       "      <td>4</td>\n",
       "      <td>50</td>\n",
       "      <td>174</td>\n",
       "    </tr>\n",
       "    <tr>\n",
       "      <th>39</th>\n",
       "      <td>2021-01-08 01:50:20+00:00</td>\n",
       "      <td>1347359955586670592</td>\n",
       "      <td>with trump vowing an \"orderly transition of po...</td>\n",
       "      <td>Noahpinion</td>\n",
       "      <td>30</td>\n",
       "      <td>2</td>\n",
       "      <td>135</td>\n",
       "    </tr>\n",
       "    <tr>\n",
       "      <th>774</th>\n",
       "      <td>2020-12-18 05:31:51+00:00</td>\n",
       "      <td>1339805555175677953</td>\n",
       "      <td>this is becoming laughable now.\\n\\nso many vid...</td>\n",
       "      <td>Natalia01Mateo</td>\n",
       "      <td>9</td>\n",
       "      <td>49</td>\n",
       "      <td>115</td>\n",
       "    </tr>\n",
       "    <tr>\n",
       "      <th>44</th>\n",
       "      <td>2021-01-07 22:27:16+00:00</td>\n",
       "      <td>1347308852597948416</td>\n",
       "      <td>it's not conjecture to say that the nazis are ...</td>\n",
       "      <td>gwensnyderPHL</td>\n",
       "      <td>4</td>\n",
       "      <td>56</td>\n",
       "      <td>114</td>\n",
       "    </tr>\n",
       "    <tr>\n",
       "      <th>899</th>\n",
       "      <td>2020-12-14 20:23:00+00:00</td>\n",
       "      <td>1338580268068732933</td>\n",
       "      <td>just because i do not believe in government ma...</td>\n",
       "      <td>OneGirlMelissa</td>\n",
       "      <td>7</td>\n",
       "      <td>1</td>\n",
       "      <td>106</td>\n",
       "    </tr>\n",
       "    <tr>\n",
       "      <th>376</th>\n",
       "      <td>2020-12-28 06:47:56+00:00</td>\n",
       "      <td>1343448582217756678</td>\n",
       "      <td>this is not fake news, vaccinations in hyde ca...</td>\n",
       "      <td>SandraWeeden</td>\n",
       "      <td>54</td>\n",
       "      <td>46</td>\n",
       "      <td>98</td>\n",
       "    </tr>\n",
       "    <tr>\n",
       "      <th>101</th>\n",
       "      <td>2021-01-05 16:43:13+00:00</td>\n",
       "      <td>1346497494029578240</td>\n",
       "      <td>une fake news des médias et journalistes démon...</td>\n",
       "      <td>journalisteEM</td>\n",
       "      <td>3</td>\n",
       "      <td>54</td>\n",
       "      <td>88</td>\n",
       "    </tr>\n",
       "    <tr>\n",
       "      <th>361</th>\n",
       "      <td>2020-12-29 01:23:53+00:00</td>\n",
       "      <td>1343729419819438082</td>\n",
       "      <td>i know the yellows will spread their usual ant...</td>\n",
       "      <td>teddyboylocsin</td>\n",
       "      <td>28</td>\n",
       "      <td>15</td>\n",
       "      <td>83</td>\n",
       "    </tr>\n",
       "    <tr>\n",
       "      <th>961</th>\n",
       "      <td>2020-12-09 18:34:03+00:00</td>\n",
       "      <td>1336740912261705730</td>\n",
       "      <td>@dbelardomd it's been both horrifying and utte...</td>\n",
       "      <td>Herofthewords</td>\n",
       "      <td>4</td>\n",
       "      <td>5</td>\n",
       "      <td>82</td>\n",
       "    </tr>\n",
       "    <tr>\n",
       "      <th>799</th>\n",
       "      <td>2020-12-17 23:21:39+00:00</td>\n",
       "      <td>1339712393719508993</td>\n",
       "      <td>another fake vaccine photo ... \\ncap on the ne...</td>\n",
       "      <td>CanAditude</td>\n",
       "      <td>32</td>\n",
       "      <td>40</td>\n",
       "      <td>75</td>\n",
       "    </tr>\n",
       "    <tr>\n",
       "      <th>374</th>\n",
       "      <td>2020-12-28 12:41:35+00:00</td>\n",
       "      <td>1343537582290956295</td>\n",
       "      <td>think the 'pause vaccinations for holidays, we...</td>\n",
       "      <td>GGVisionarEase</td>\n",
       "      <td>2</td>\n",
       "      <td>20</td>\n",
       "      <td>63</td>\n",
       "    </tr>\n",
       "    <tr>\n",
       "      <th>235</th>\n",
       "      <td>2021-01-02 15:41:31+00:00</td>\n",
       "      <td>1345394801127133184</td>\n",
       "      <td>stanley johnson the father of now prime minist...</td>\n",
       "      <td>lyndseydawnwood</td>\n",
       "      <td>7</td>\n",
       "      <td>50</td>\n",
       "      <td>57</td>\n",
       "    </tr>\n",
       "  </tbody>\n",
       "</table>\n",
       "</div>"
      ],
      "text/plain": [
       "                     Datetime             Tweet Id  \\\n",
       "550 2020-12-21 20:33:42+00:00  1341119678177939456   \n",
       "354 2020-12-29 03:34:23+00:00  1343762260301410304   \n",
       "312 2020-12-30 15:00:20+00:00  1344297273891590146   \n",
       "656 2020-12-19 13:42:01+00:00  1340291298398486529   \n",
       "360 2020-12-29 02:32:31+00:00  1343746691367895041   \n",
       "389 2020-12-27 19:03:39+00:00  1343271342985019393   \n",
       "693 2020-12-19 00:12:19+00:00  1340087528838344704   \n",
       "989 2020-12-09 02:03:39+00:00  1336491671505268742   \n",
       "967 2020-12-09 15:48:52+00:00  1336699342116114432   \n",
       "39  2021-01-08 01:50:20+00:00  1347359955586670592   \n",
       "774 2020-12-18 05:31:51+00:00  1339805555175677953   \n",
       "44  2021-01-07 22:27:16+00:00  1347308852597948416   \n",
       "899 2020-12-14 20:23:00+00:00  1338580268068732933   \n",
       "376 2020-12-28 06:47:56+00:00  1343448582217756678   \n",
       "101 2021-01-05 16:43:13+00:00  1346497494029578240   \n",
       "361 2020-12-29 01:23:53+00:00  1343729419819438082   \n",
       "961 2020-12-09 18:34:03+00:00  1336740912261705730   \n",
       "799 2020-12-17 23:21:39+00:00  1339712393719508993   \n",
       "374 2020-12-28 12:41:35+00:00  1343537582290956295   \n",
       "235 2021-01-02 15:41:31+00:00  1345394801127133184   \n",
       "\n",
       "                                                  Text         Username  \\\n",
       "550  i wonder if we can calculate how many black ci...   ScottAdamsSays   \n",
       "354  from scams soliciting donations for fake chari...     amyklobuchar   \n",
       "312  non-kinetic war with china, with whiteboard, s...   ScottAdamsSays   \n",
       "656  ➡️ il s'agissait donc d'un malaise/évanouissem...   FAKE_Investiga   \n",
       "360  passé l'émotion et après analyse, il est clair...    christo_comte   \n",
       "389  i overheard a convo between 2 men. one of the ...  TheMindsculpter   \n",
       "693  more and more fake vaccinations are being give...    ChrisWickNews   \n",
       "989  in case you doubt it, do this at home: 1) go t...       PeterHotez   \n",
       "967  several covid19 vaccinations have been announc...       MahaCyber1   \n",
       "39   with trump vowing an \"orderly transition of po...       Noahpinion   \n",
       "774  this is becoming laughable now.\\n\\nso many vid...   Natalia01Mateo   \n",
       "44   it's not conjecture to say that the nazis are ...    gwensnyderPHL   \n",
       "899  just because i do not believe in government ma...   OneGirlMelissa   \n",
       "376  this is not fake news, vaccinations in hyde ca...     SandraWeeden   \n",
       "101  une fake news des médias et journalistes démon...    journalisteEM   \n",
       "361  i know the yellows will spread their usual ant...   teddyboylocsin   \n",
       "961  @dbelardomd it's been both horrifying and utte...    Herofthewords   \n",
       "799  another fake vaccine photo ... \\ncap on the ne...       CanAditude   \n",
       "374  think the 'pause vaccinations for holidays, we...   GGVisionarEase   \n",
       "235  stanley johnson the father of now prime minist...  lyndseydawnwood   \n",
       "\n",
       "     Reply Count  Retweet Count  Like Count  \n",
       "550          165            400        2481  \n",
       "354           54            201        1120  \n",
       "312          106            164         476  \n",
       "656            3             50         409  \n",
       "360           17             66         313  \n",
       "389           43             23         215  \n",
       "693            9             48         199  \n",
       "989           18             34         182  \n",
       "967            4             50         174  \n",
       "39            30              2         135  \n",
       "774            9             49         115  \n",
       "44             4             56         114  \n",
       "899            7              1         106  \n",
       "376           54             46          98  \n",
       "101            3             54          88  \n",
       "361           28             15          83  \n",
       "961            4              5          82  \n",
       "799           32             40          75  \n",
       "374            2             20          63  \n",
       "235            7             50          57  "
      ]
     },
     "execution_count": 83,
     "metadata": {},
     "output_type": "execute_result"
    }
   ],
   "source": [
    "#Prints out top 20\n",
    "fake_vac_df.head(20)"
   ]
  },
  {
   "cell_type": "code",
   "execution_count": 87,
   "metadata": {},
   "outputs": [
    {
     "name": "stdout",
     "output_type": "stream",
     "text": [
      "[datetime.datetime(2020, 12, 27, 23, 3, 28, tzinfo=datetime.timezone.utc), 1343331695357902848, 'After the Fake Voting is over we should push forward with Vaccinations and stop the wild spending going on in the House of Representatives. Cool the printing presses, and subtract some zeros from the block chains or China wins.', 'SanskritSand', 0, 0, 0, 'https://twitter.com/SanskritSand/status/1343331695357902848']\n",
      "\n",
      "[datetime.datetime(2020, 12, 19, 0, 56, 43, tzinfo=datetime.timezone.utc), 1340098704045387781, '@ABDaDisciple @JoJo_Camp23 Just saw that lol after seeing 3 videos of FAKE vaccinations I’m good. They ain’t even really getting the vaccine.', 'Tai_Lovee', 0, 0, 1, 'https://twitter.com/Tai_Lovee/status/1340098704045387781']\n",
      "\n",
      "[datetime.datetime(2020, 12, 9, 0, 0, 27, tzinfo=datetime.timezone.utc), 1336460664064405506, 'Les vaccinations fake ont démarrés..et a la première on les a déjà démasqué..😅\\nLe bouchon encore sur l aiguille fallait oser.. ils nous prennent VRAIMENT pour des demeurés c est pas possible..😏\\nhttps://t.co/usnnqo91aO\\n#Vaccin #Covid_19', 'Flo_NS_', 0, 0, 0, 'https://twitter.com/Flo_NS_/status/1336460664064405506']\n",
      "\n",
      "[datetime.datetime(2020, 12, 18, 5, 41, 51, tzinfo=datetime.timezone.utc), 1339808072961843200, 'What are the pro #Vaccine ppl going to say about this then?\\n\\nWill they STILL be blinded to the scam??\\n\\nLook closely and You’ll see that the public vaccinations are FAKE to trick ppl into trusting the poison they call a vaccine\\n\\n#COVIDー19 #BioNTech #svpol \\nhttps://t.co/LxHBr4LXVx', 'Dragonsoul9Fire', 5, 5, 23, 'https://twitter.com/Dragonsoul9Fire/status/1339808072961843200']\n",
      "\n",
      "[datetime.datetime(2020, 12, 29, 3, 20, 5, tzinfo=datetime.timezone.utc), 1343758663278878725, \"@SwitzersWishbo1 @Whattha1983 I hear ya man. I'm pretty much the same way. I know the vaccine is real because I have family who have been transporting the syringes all over oklahoma for the last few days. Just don't understand the videos of fake vaccinations. Anything can be doctored but most are legit fake.\", 'dirtburglar33', 0, 0, 0, 'https://twitter.com/dirtburglar33/status/1343758663278878725']\n",
      "\n"
     ]
    }
   ],
   "source": [
    "#Adds top misinformation tweets to list and prints out\n",
    "top_misinformation_tweets = []\n",
    "for num in [389, 693, 989, 774, 361]:\n",
    "    top_misinformation_tweets.append(fake_vac_tweets_list[num])\n",
    "for entry in top_misinformation_tweets:\n",
    "    print(entry)\n",
    "    print()"
   ]
  },
  {
   "cell_type": "markdown",
   "metadata": {},
   "source": [
    "## Top Sources"
   ]
  },
  {
   "cell_type": "code",
   "execution_count": 135,
   "metadata": {},
   "outputs": [
    {
     "data": {
      "text/html": [
       "<div>\n",
       "<style scoped>\n",
       "    .dataframe tbody tr th:only-of-type {\n",
       "        vertical-align: middle;\n",
       "    }\n",
       "\n",
       "    .dataframe tbody tr th {\n",
       "        vertical-align: top;\n",
       "    }\n",
       "\n",
       "    .dataframe thead th {\n",
       "        text-align: right;\n",
       "    }\n",
       "</style>\n",
       "<table border=\"1\" class=\"dataframe\">\n",
       "  <thead>\n",
       "    <tr style=\"text-align: right;\">\n",
       "      <th></th>\n",
       "      <th>Tweet Id</th>\n",
       "      <th>Reply Count</th>\n",
       "      <th>Retweet Count</th>\n",
       "      <th>Like Count</th>\n",
       "    </tr>\n",
       "    <tr>\n",
       "      <th>Username</th>\n",
       "      <th></th>\n",
       "      <th></th>\n",
       "      <th></th>\n",
       "      <th></th>\n",
       "    </tr>\n",
       "  </thead>\n",
       "  <tbody>\n",
       "    <tr>\n",
       "      <th>ScottAdamsSays</th>\n",
       "      <td>1.342708e+18</td>\n",
       "      <td>135.5</td>\n",
       "      <td>282.0</td>\n",
       "      <td>1478.5</td>\n",
       "    </tr>\n",
       "    <tr>\n",
       "      <th>amyklobuchar</th>\n",
       "      <td>1.343762e+18</td>\n",
       "      <td>54.0</td>\n",
       "      <td>201.0</td>\n",
       "      <td>1120.0</td>\n",
       "    </tr>\n",
       "    <tr>\n",
       "      <th>FAKE_Investiga</th>\n",
       "      <td>1.340291e+18</td>\n",
       "      <td>3.0</td>\n",
       "      <td>50.0</td>\n",
       "      <td>409.0</td>\n",
       "    </tr>\n",
       "    <tr>\n",
       "      <th>christo_comte</th>\n",
       "      <td>1.343747e+18</td>\n",
       "      <td>17.0</td>\n",
       "      <td>66.0</td>\n",
       "      <td>313.0</td>\n",
       "    </tr>\n",
       "    <tr>\n",
       "      <th>TheMindsculpter</th>\n",
       "      <td>1.343271e+18</td>\n",
       "      <td>43.0</td>\n",
       "      <td>23.0</td>\n",
       "      <td>215.0</td>\n",
       "    </tr>\n",
       "    <tr>\n",
       "      <th>ChrisWickNews</th>\n",
       "      <td>1.340088e+18</td>\n",
       "      <td>9.0</td>\n",
       "      <td>48.0</td>\n",
       "      <td>199.0</td>\n",
       "    </tr>\n",
       "    <tr>\n",
       "      <th>PeterHotez</th>\n",
       "      <td>1.336492e+18</td>\n",
       "      <td>18.0</td>\n",
       "      <td>34.0</td>\n",
       "      <td>182.0</td>\n",
       "    </tr>\n",
       "    <tr>\n",
       "      <th>MahaCyber1</th>\n",
       "      <td>1.336699e+18</td>\n",
       "      <td>4.0</td>\n",
       "      <td>50.0</td>\n",
       "      <td>174.0</td>\n",
       "    </tr>\n",
       "    <tr>\n",
       "      <th>Noahpinion</th>\n",
       "      <td>1.347360e+18</td>\n",
       "      <td>30.0</td>\n",
       "      <td>2.0</td>\n",
       "      <td>135.0</td>\n",
       "    </tr>\n",
       "    <tr>\n",
       "      <th>Natalia01Mateo</th>\n",
       "      <td>1.339806e+18</td>\n",
       "      <td>9.0</td>\n",
       "      <td>49.0</td>\n",
       "      <td>115.0</td>\n",
       "    </tr>\n",
       "    <tr>\n",
       "      <th>gwensnyderPHL</th>\n",
       "      <td>1.347309e+18</td>\n",
       "      <td>4.0</td>\n",
       "      <td>56.0</td>\n",
       "      <td>114.0</td>\n",
       "    </tr>\n",
       "    <tr>\n",
       "      <th>OneGirlMelissa</th>\n",
       "      <td>1.338580e+18</td>\n",
       "      <td>7.0</td>\n",
       "      <td>1.0</td>\n",
       "      <td>106.0</td>\n",
       "    </tr>\n",
       "    <tr>\n",
       "      <th>SandraWeeden</th>\n",
       "      <td>1.343449e+18</td>\n",
       "      <td>54.0</td>\n",
       "      <td>46.0</td>\n",
       "      <td>98.0</td>\n",
       "    </tr>\n",
       "    <tr>\n",
       "      <th>journalisteEM</th>\n",
       "      <td>1.346497e+18</td>\n",
       "      <td>3.0</td>\n",
       "      <td>54.0</td>\n",
       "      <td>88.0</td>\n",
       "    </tr>\n",
       "    <tr>\n",
       "      <th>teddyboylocsin</th>\n",
       "      <td>1.343729e+18</td>\n",
       "      <td>28.0</td>\n",
       "      <td>15.0</td>\n",
       "      <td>83.0</td>\n",
       "    </tr>\n",
       "  </tbody>\n",
       "</table>\n",
       "</div>"
      ],
      "text/plain": [
       "                     Tweet Id  Reply Count  Retweet Count  Like Count\n",
       "Username                                                             \n",
       "ScottAdamsSays   1.342708e+18        135.5          282.0      1478.5\n",
       "amyklobuchar     1.343762e+18         54.0          201.0      1120.0\n",
       "FAKE_Investiga   1.340291e+18          3.0           50.0       409.0\n",
       "christo_comte    1.343747e+18         17.0           66.0       313.0\n",
       "TheMindsculpter  1.343271e+18         43.0           23.0       215.0\n",
       "ChrisWickNews    1.340088e+18          9.0           48.0       199.0\n",
       "PeterHotez       1.336492e+18         18.0           34.0       182.0\n",
       "MahaCyber1       1.336699e+18          4.0           50.0       174.0\n",
       "Noahpinion       1.347360e+18         30.0            2.0       135.0\n",
       "Natalia01Mateo   1.339806e+18          9.0           49.0       115.0\n",
       "gwensnyderPHL    1.347309e+18          4.0           56.0       114.0\n",
       "OneGirlMelissa   1.338580e+18          7.0            1.0       106.0\n",
       "SandraWeeden     1.343449e+18         54.0           46.0        98.0\n",
       "journalisteEM    1.346497e+18          3.0           54.0        88.0\n",
       "teddyboylocsin   1.343729e+18         28.0           15.0        83.0"
      ]
     },
     "execution_count": 135,
     "metadata": {},
     "output_type": "execute_result"
    }
   ],
   "source": [
    "#Groups tweets by username and then sorts and prints out top 15\n",
    "user_df = fake_vac_df.groupby('Username').mean()\n",
    "user_df.sort_values(['Like Count', 'Retweet Count', 'Reply Count'], ascending=False, inplace=True)\n",
    "user_df.head(15)"
   ]
  },
  {
   "cell_type": "code",
   "execution_count": 89,
   "metadata": {},
   "outputs": [
    {
     "data": {
      "text/html": [
       "<div>\n",
       "<style scoped>\n",
       "    .dataframe tbody tr th:only-of-type {\n",
       "        vertical-align: middle;\n",
       "    }\n",
       "\n",
       "    .dataframe tbody tr th {\n",
       "        vertical-align: top;\n",
       "    }\n",
       "\n",
       "    .dataframe thead th {\n",
       "        text-align: right;\n",
       "    }\n",
       "</style>\n",
       "<table border=\"1\" class=\"dataframe\">\n",
       "  <thead>\n",
       "    <tr style=\"text-align: right;\">\n",
       "      <th></th>\n",
       "      <th>Datetime</th>\n",
       "      <th>Tweet Id</th>\n",
       "      <th>Text</th>\n",
       "      <th>Username</th>\n",
       "      <th>Reply Count</th>\n",
       "      <th>Retweet Count</th>\n",
       "      <th>Like Count</th>\n",
       "      <th>URL</th>\n",
       "    </tr>\n",
       "  </thead>\n",
       "  <tbody>\n",
       "    <tr>\n",
       "      <th>394</th>\n",
       "      <td>2020-12-27 19:03:39+00:00</td>\n",
       "      <td>1343271342985019393</td>\n",
       "      <td>i overheard a convo between 2 men. one of the ...</td>\n",
       "      <td>TheMindsculpter</td>\n",
       "      <td>42</td>\n",
       "      <td>22</td>\n",
       "      <td>215</td>\n",
       "      <td>https://twitter.com/TheMindsculpter/status/134...</td>\n",
       "    </tr>\n",
       "  </tbody>\n",
       "</table>\n",
       "</div>"
      ],
      "text/plain": [
       "                     Datetime             Tweet Id  \\\n",
       "394 2020-12-27 19:03:39+00:00  1343271342985019393   \n",
       "\n",
       "                                                  Text         Username  \\\n",
       "394  i overheard a convo between 2 men. one of the ...  TheMindsculpter   \n",
       "\n",
       "     Reply Count  Retweet Count  Like Count  \\\n",
       "394           42             22         215   \n",
       "\n",
       "                                                   URL  \n",
       "394  https://twitter.com/TheMindsculpter/status/134...  "
      ]
     },
     "execution_count": 89,
     "metadata": {},
     "output_type": "execute_result"
    }
   ],
   "source": [
    "#Creates top sources list\n",
    "top_sources = []\n",
    "fake_vac_df[fake_vac_df['Username'] == 'TheMindsculpter']"
   ]
  },
  {
   "cell_type": "code",
   "execution_count": 90,
   "metadata": {},
   "outputs": [
    {
     "name": "stdout",
     "output_type": "stream",
     "text": [
      "[datetime.datetime(2020, 12, 27, 23, 3, 28, tzinfo=datetime.timezone.utc), 1343331695357902848, 'After the Fake Voting is over we should push forward with Vaccinations and stop the wild spending going on in the House of Representatives. Cool the printing presses, and subtract some zeros from the block chains or China wins.', 'SanskritSand', 0, 0, 0, 'https://twitter.com/SanskritSand/status/1343331695357902848']\n"
     ]
    }
   ],
   "source": [
    "print(fake_vac_tweets_list[389])\n",
    "top_sources.append('TheMindsculpter')"
   ]
  },
  {
   "cell_type": "code",
   "execution_count": 91,
   "metadata": {},
   "outputs": [
    {
     "data": {
      "text/html": [
       "<div>\n",
       "<style scoped>\n",
       "    .dataframe tbody tr th:only-of-type {\n",
       "        vertical-align: middle;\n",
       "    }\n",
       "\n",
       "    .dataframe tbody tr th {\n",
       "        vertical-align: top;\n",
       "    }\n",
       "\n",
       "    .dataframe thead th {\n",
       "        text-align: right;\n",
       "    }\n",
       "</style>\n",
       "<table border=\"1\" class=\"dataframe\">\n",
       "  <thead>\n",
       "    <tr style=\"text-align: right;\">\n",
       "      <th></th>\n",
       "      <th>Datetime</th>\n",
       "      <th>Tweet Id</th>\n",
       "      <th>Text</th>\n",
       "      <th>Username</th>\n",
       "      <th>Reply Count</th>\n",
       "      <th>Retweet Count</th>\n",
       "      <th>Like Count</th>\n",
       "      <th>URL</th>\n",
       "    </tr>\n",
       "  </thead>\n",
       "  <tbody>\n",
       "    <tr>\n",
       "      <th>695</th>\n",
       "      <td>2020-12-19 00:12:19+00:00</td>\n",
       "      <td>1340087528838344704</td>\n",
       "      <td>more and more fake vaccinations are being give...</td>\n",
       "      <td>ChrisWickNews</td>\n",
       "      <td>9</td>\n",
       "      <td>48</td>\n",
       "      <td>199</td>\n",
       "      <td>https://twitter.com/ChrisWickNews/status/13400...</td>\n",
       "    </tr>\n",
       "  </tbody>\n",
       "</table>\n",
       "</div>"
      ],
      "text/plain": [
       "                     Datetime             Tweet Id  \\\n",
       "695 2020-12-19 00:12:19+00:00  1340087528838344704   \n",
       "\n",
       "                                                  Text       Username  \\\n",
       "695  more and more fake vaccinations are being give...  ChrisWickNews   \n",
       "\n",
       "     Reply Count  Retweet Count  Like Count  \\\n",
       "695            9             48         199   \n",
       "\n",
       "                                                   URL  \n",
       "695  https://twitter.com/ChrisWickNews/status/13400...  "
      ]
     },
     "execution_count": 91,
     "metadata": {},
     "output_type": "execute_result"
    }
   ],
   "source": [
    "fake_vac_df[fake_vac_df['Username'] == 'ChrisWickNews']"
   ]
  },
  {
   "cell_type": "code",
   "execution_count": 92,
   "metadata": {},
   "outputs": [
    {
     "name": "stdout",
     "output_type": "stream",
     "text": [
      "[datetime.datetime(2020, 12, 19, 0, 56, 43, tzinfo=datetime.timezone.utc), 1340098704045387781, '@ABDaDisciple @JoJo_Camp23 Just saw that lol after seeing 3 videos of FAKE vaccinations I’m good. They ain’t even really getting the vaccine.', 'Tai_Lovee', 0, 0, 1, 'https://twitter.com/Tai_Lovee/status/1340098704045387781']\n"
     ]
    }
   ],
   "source": [
    "print(fake_vac_tweets_list[693])\n",
    "top_sources.append('ChrisWickNews')"
   ]
  },
  {
   "cell_type": "code",
   "execution_count": 93,
   "metadata": {},
   "outputs": [
    {
     "data": {
      "text/html": [
       "<div>\n",
       "<style scoped>\n",
       "    .dataframe tbody tr th:only-of-type {\n",
       "        vertical-align: middle;\n",
       "    }\n",
       "\n",
       "    .dataframe tbody tr th {\n",
       "        vertical-align: top;\n",
       "    }\n",
       "\n",
       "    .dataframe thead th {\n",
       "        text-align: right;\n",
       "    }\n",
       "</style>\n",
       "<table border=\"1\" class=\"dataframe\">\n",
       "  <thead>\n",
       "    <tr style=\"text-align: right;\">\n",
       "      <th></th>\n",
       "      <th>Datetime</th>\n",
       "      <th>Tweet Id</th>\n",
       "      <th>Text</th>\n",
       "      <th>Username</th>\n",
       "      <th>Reply Count</th>\n",
       "      <th>Retweet Count</th>\n",
       "      <th>Like Count</th>\n",
       "      <th>URL</th>\n",
       "    </tr>\n",
       "  </thead>\n",
       "  <tbody>\n",
       "    <tr>\n",
       "      <th>987</th>\n",
       "      <td>2020-12-09 02:03:39+00:00</td>\n",
       "      <td>1336491671505268742</td>\n",
       "      <td>in case you doubt it, do this at home: 1) go t...</td>\n",
       "      <td>PeterHotez</td>\n",
       "      <td>18</td>\n",
       "      <td>34</td>\n",
       "      <td>181</td>\n",
       "      <td>https://twitter.com/PeterHotez/status/13364916...</td>\n",
       "    </tr>\n",
       "  </tbody>\n",
       "</table>\n",
       "</div>"
      ],
      "text/plain": [
       "                     Datetime             Tweet Id  \\\n",
       "987 2020-12-09 02:03:39+00:00  1336491671505268742   \n",
       "\n",
       "                                                  Text    Username  \\\n",
       "987  in case you doubt it, do this at home: 1) go t...  PeterHotez   \n",
       "\n",
       "     Reply Count  Retweet Count  Like Count  \\\n",
       "987           18             34         181   \n",
       "\n",
       "                                                   URL  \n",
       "987  https://twitter.com/PeterHotez/status/13364916...  "
      ]
     },
     "execution_count": 93,
     "metadata": {},
     "output_type": "execute_result"
    }
   ],
   "source": [
    "fake_vac_df[fake_vac_df['Username'] == 'PeterHotez']"
   ]
  },
  {
   "cell_type": "code",
   "execution_count": 94,
   "metadata": {},
   "outputs": [
    {
     "name": "stdout",
     "output_type": "stream",
     "text": [
      "[datetime.datetime(2020, 12, 9, 0, 0, 27, tzinfo=datetime.timezone.utc), 1336460664064405506, 'Les vaccinations fake ont démarrés..et a la première on les a déjà démasqué..😅\\nLe bouchon encore sur l aiguille fallait oser.. ils nous prennent VRAIMENT pour des demeurés c est pas possible..😏\\nhttps://t.co/usnnqo91aO\\n#Vaccin #Covid_19', 'Flo_NS_', 0, 0, 0, 'https://twitter.com/Flo_NS_/status/1336460664064405506']\n"
     ]
    }
   ],
   "source": [
    "print(fake_vac_tweets_list[989])\n",
    "top_sources.append('PeterHotez')"
   ]
  },
  {
   "cell_type": "code",
   "execution_count": 95,
   "metadata": {},
   "outputs": [
    {
     "data": {
      "text/html": [
       "<div>\n",
       "<style scoped>\n",
       "    .dataframe tbody tr th:only-of-type {\n",
       "        vertical-align: middle;\n",
       "    }\n",
       "\n",
       "    .dataframe tbody tr th {\n",
       "        vertical-align: top;\n",
       "    }\n",
       "\n",
       "    .dataframe thead th {\n",
       "        text-align: right;\n",
       "    }\n",
       "</style>\n",
       "<table border=\"1\" class=\"dataframe\">\n",
       "  <thead>\n",
       "    <tr style=\"text-align: right;\">\n",
       "      <th></th>\n",
       "      <th>Datetime</th>\n",
       "      <th>Tweet Id</th>\n",
       "      <th>Text</th>\n",
       "      <th>Username</th>\n",
       "      <th>Reply Count</th>\n",
       "      <th>Retweet Count</th>\n",
       "      <th>Like Count</th>\n",
       "      <th>URL</th>\n",
       "    </tr>\n",
       "  </thead>\n",
       "  <tbody>\n",
       "    <tr>\n",
       "      <th>777</th>\n",
       "      <td>2020-12-18 05:31:51+00:00</td>\n",
       "      <td>1339805555175677953</td>\n",
       "      <td>this is becoming laughable now.\\n\\nso many vid...</td>\n",
       "      <td>Natalia01Mateo</td>\n",
       "      <td>9</td>\n",
       "      <td>49</td>\n",
       "      <td>113</td>\n",
       "      <td>https://twitter.com/Natalia01Mateo/status/1339...</td>\n",
       "    </tr>\n",
       "  </tbody>\n",
       "</table>\n",
       "</div>"
      ],
      "text/plain": [
       "                     Datetime             Tweet Id  \\\n",
       "777 2020-12-18 05:31:51+00:00  1339805555175677953   \n",
       "\n",
       "                                                  Text        Username  \\\n",
       "777  this is becoming laughable now.\\n\\nso many vid...  Natalia01Mateo   \n",
       "\n",
       "     Reply Count  Retweet Count  Like Count  \\\n",
       "777            9             49         113   \n",
       "\n",
       "                                                   URL  \n",
       "777  https://twitter.com/Natalia01Mateo/status/1339...  "
      ]
     },
     "execution_count": 95,
     "metadata": {},
     "output_type": "execute_result"
    }
   ],
   "source": [
    "fake_vac_df[fake_vac_df['Username'] == 'Natalia01Mateo']"
   ]
  },
  {
   "cell_type": "code",
   "execution_count": 96,
   "metadata": {},
   "outputs": [
    {
     "name": "stdout",
     "output_type": "stream",
     "text": [
      "[datetime.datetime(2020, 12, 18, 5, 41, 51, tzinfo=datetime.timezone.utc), 1339808072961843200, 'What are the pro #Vaccine ppl going to say about this then?\\n\\nWill they STILL be blinded to the scam??\\n\\nLook closely and You’ll see that the public vaccinations are FAKE to trick ppl into trusting the poison they call a vaccine\\n\\n#COVIDー19 #BioNTech #svpol \\nhttps://t.co/LxHBr4LXVx', 'Dragonsoul9Fire', 5, 5, 23, 'https://twitter.com/Dragonsoul9Fire/status/1339808072961843200']\n"
     ]
    }
   ],
   "source": [
    "print(fake_vac_tweets_list[774])\n",
    "top_sources.append('Natalia01Mateo')"
   ]
  },
  {
   "cell_type": "code",
   "execution_count": 97,
   "metadata": {},
   "outputs": [
    {
     "data": {
      "text/html": [
       "<div>\n",
       "<style scoped>\n",
       "    .dataframe tbody tr th:only-of-type {\n",
       "        vertical-align: middle;\n",
       "    }\n",
       "\n",
       "    .dataframe tbody tr th {\n",
       "        vertical-align: top;\n",
       "    }\n",
       "\n",
       "    .dataframe thead th {\n",
       "        text-align: right;\n",
       "    }\n",
       "</style>\n",
       "<table border=\"1\" class=\"dataframe\">\n",
       "  <thead>\n",
       "    <tr style=\"text-align: right;\">\n",
       "      <th></th>\n",
       "      <th>Datetime</th>\n",
       "      <th>Tweet Id</th>\n",
       "      <th>Text</th>\n",
       "      <th>Username</th>\n",
       "      <th>Reply Count</th>\n",
       "      <th>Retweet Count</th>\n",
       "      <th>Like Count</th>\n",
       "      <th>URL</th>\n",
       "    </tr>\n",
       "  </thead>\n",
       "  <tbody>\n",
       "    <tr>\n",
       "      <th>366</th>\n",
       "      <td>2020-12-29 01:23:53+00:00</td>\n",
       "      <td>1343729419819438082</td>\n",
       "      <td>i know the yellows will spread their usual ant...</td>\n",
       "      <td>teddyboylocsin</td>\n",
       "      <td>28</td>\n",
       "      <td>15</td>\n",
       "      <td>82</td>\n",
       "      <td>https://twitter.com/teddyboylocsin/status/1343...</td>\n",
       "    </tr>\n",
       "  </tbody>\n",
       "</table>\n",
       "</div>"
      ],
      "text/plain": [
       "                     Datetime             Tweet Id  \\\n",
       "366 2020-12-29 01:23:53+00:00  1343729419819438082   \n",
       "\n",
       "                                                  Text        Username  \\\n",
       "366  i know the yellows will spread their usual ant...  teddyboylocsin   \n",
       "\n",
       "     Reply Count  Retweet Count  Like Count  \\\n",
       "366           28             15          82   \n",
       "\n",
       "                                                   URL  \n",
       "366  https://twitter.com/teddyboylocsin/status/1343...  "
      ]
     },
     "execution_count": 97,
     "metadata": {},
     "output_type": "execute_result"
    }
   ],
   "source": [
    "fake_vac_df[fake_vac_df['Username'] == 'teddyboylocsin']"
   ]
  },
  {
   "cell_type": "code",
   "execution_count": 98,
   "metadata": {},
   "outputs": [
    {
     "name": "stdout",
     "output_type": "stream",
     "text": [
      "[datetime.datetime(2020, 12, 29, 3, 20, 5, tzinfo=datetime.timezone.utc), 1343758663278878725, \"@SwitzersWishbo1 @Whattha1983 I hear ya man. I'm pretty much the same way. I know the vaccine is real because I have family who have been transporting the syringes all over oklahoma for the last few days. Just don't understand the videos of fake vaccinations. Anything can be doctored but most are legit fake.\", 'dirtburglar33', 0, 0, 0, 'https://twitter.com/dirtburglar33/status/1343758663278878725']\n"
     ]
    }
   ],
   "source": [
    "print(fake_vac_tweets_list[361])\n",
    "top_sources.append('teddyboylocsin')"
   ]
  },
  {
   "cell_type": "code",
   "execution_count": 99,
   "metadata": {},
   "outputs": [
    {
     "name": "stdout",
     "output_type": "stream",
     "text": [
      "TheMindsculpter\n",
      "ChrisWickNews\n",
      "PeterHotez\n",
      "Natalia01Mateo\n",
      "teddyboylocsin\n"
     ]
    }
   ],
   "source": [
    "#Prints out top sources list\n",
    "for entry in top_sources:\n",
    "    print(entry)"
   ]
  },
  {
   "cell_type": "markdown",
   "metadata": {},
   "source": [
    "## Funny/Crazy Tweets"
   ]
  },
  {
   "cell_type": "code",
   "execution_count": 100,
   "metadata": {},
   "outputs": [
    {
     "name": "stdout",
     "output_type": "stream",
     "text": [
      "5 \n",
      " [datetime.datetime(2021, 1, 10, 5, 20, 29, tzinfo=datetime.timezone.utc), 1348137617494138881, 'This is about cheating, fraud, fake news, censorship, race baiting, unborn children, gun reform, pedophilia, sex trafficking, mask mandate, socialism, mandated vaccinations, contact tracing, the bullshit kickback stimulus bill, covid concentration camps, treason, ....', 'MichaelDeLauzon', 2, 72, 198, 'https://twitter.com/MichaelDeLauzon/status/1348137617494138881']\n",
      "\n",
      "7 \n",
      " [datetime.datetime(2021, 1, 10, 3, 48, 55, tzinfo=datetime.timezone.utc), 1348114571769344001, 'I need a couple of vaccinations. One for Covid and one against the forces of evil - Bill Walton  😂😂😂', 'FakeWYOSports', 0, 0, 0, 'https://twitter.com/FakeWYOSports/status/1348114571769344001']\n",
      "\n",
      "14 \n",
      " [datetime.datetime(2021, 1, 9, 21, 17, tzinfo=datetime.timezone.utc), 1348015945269145601, '@cactus12345 @TruthLion100 @stephen_taylor Not only that, the vaccine won’t last long....ask Gates?  I have the same medical degree as him....and he’s selling vaccines to the world...his philanthropy is fake... it’s terminal lockdowns, masking.and repeat vaccinations', 'ra4787', 0, 0, 0, 'https://twitter.com/ra4787/status/1348015945269145601']\n",
      "\n",
      "71 \n",
      " [datetime.datetime(2021, 1, 7, 2, 27, 32, tzinfo=datetime.timezone.utc), 1347006927298064384, \"@TrumperWavin You'd think after not locking up 1 fucking deep state character and pushing Vaccinations from Gates for a fake FLU Pandemic, declaring a National Emergency giving power to FEMA, giving states Emergency authority to issue lockdowns and mask mandates y'all would wake the FUCK UP https://t.co/Mwf7HKPYw7\", 'MALAKIA1221', 0, 0, 0, 'https://twitter.com/MALAKIA1221/status/1347006927298064384']\n",
      "\n",
      "217 \n",
      " [datetime.datetime(2021, 1, 3, 13, 47, 17, tzinfo=datetime.timezone.utc), 1345728441585463296, \"@realDonaldTrump @CDCgov WHY ARE YOU ENCOURAGING MILLIONS OF PEOPLE WHO TRUST YOU AND VOTED FOR YOU TO TAKE POISON 'VACCINATIONS' THAT EVEN PELOSI AND BIDEN FAKE OUT TAKE IT???? YOU KNOW EXACTLY WHAT GATES IS DOING AND ARE BEING SILENT!  I WANT AN ANSWER!\", 'NaomiHu00105192', 0, 0, 0, 'https://twitter.com/NaomiHu00105192/status/1345728441585463296']\n",
      "\n",
      "232 \n",
      " [datetime.datetime(2021, 1, 2, 18, 50, 28, tzinfo=datetime.timezone.utc), 1345442351796408320, '@imkimaaron @DanielB59756947 @ChanceCampaign @indio007 @Mcscorpio81 @mrssimp33413365 @Pewds9085026 @mattithyahu @TBRagsdale1 @J5_Project @maxsec @space_is_fake @FlatSlugbrains @hugh_bothwell @SplinterSimba @Both_Sides_Suck @Frequen15309040 @itsaglobe @ScottoftheBruce @SkyDog_59 @sly_sparkane @lookscurvedtome @FEtranslation @TrueBlueRMC @keigh_see @Bradwags68 @try_thinking @doctorbuttons @Beeeelzebub888 @Huttvalleycraz1 @mikeonthebayou @DestroyFE @LaikaAndYuri @NaGTruth @theathens619 @badibulgator @TheUpriser1 @BadMuthaFlerfer @GEIST_VIEW @hunt9941 @habsbatman @KanChristo @declan6914 @HlScientist @Oswald1160 @boston_hoax @SurveyorMaine @Freak0nline @FLATHORIZON @PhyzMr I heard Bill was hiring people to take fake vaccinations and claim they had no side effects.\\n\\nAnd otherwise you can always call George if he still has a job for you.', 'Zanquis', 0, 0, 2, 'https://twitter.com/Zanquis/status/1345442351796408320']\n",
      "\n",
      "259 \n",
      " [datetime.datetime(2021, 1, 1, 15, 25, 23, tzinfo=datetime.timezone.utc), 1345028353393373190, 'The CON-stitution is a piece of kak paper, and the Bill of Rights is a lot of bullshit, that protects you against fuckall..Not Lockdowns, not vaccinations, God not even against a fake virus, which is @BillGates fart..@Jagman05580158 @ConCourtSA @DrZweliMkhize https://t.co/e0gYIQqOCD', 'SeanGoss31', 0, 3, 8, 'https://twitter.com/SeanGoss31/status/1345028353393373190']\n",
      "\n",
      "305 \n",
      " [datetime.datetime(2020, 12, 30, 21, 9, 5, tzinfo=datetime.timezone.utc), 1344390074188910592, \"@NYGovCuomo Nothing to see here but Cuomo pitching a fake pilot program at Buffalo Bill's Stadium so he can attend the game. \\nMegalomania in full effect. \\nHe mentioned nothing on how he plans to distribute vaccinations to the vulnerable  seniors ,dangerous criminals addicts sex predators yes\", 'SALGOLDSTARFAT3', 0, 0, 0, 'https://twitter.com/SALGOLDSTARFAT3/status/1344390074188910592']\n",
      "\n",
      "376 \n",
      " [datetime.datetime(2020, 12, 28, 13, 6, 9, tzinfo=datetime.timezone.utc), 1343543764518907904, 'Bill Gates said nothing will get to normal until he vaccinate the entite global population with the covid-19 vaccines.\\n\\nTo achieve this end, he has forced lockdowns, devastated economies and livelihoods of the masses.\\n\\nSpread enough fake news abt 2nd wave to force vaccinations 👇🏿 https://t.co/gMLIIKXgrJ', 'LandDilemma', 5, 38, 42, 'https://twitter.com/LandDilemma/status/1343543764518907904']\n",
      "\n",
      "570 \n",
      " [datetime.datetime(2020, 12, 21, 13, 26, 14, tzinfo=datetime.timezone.utc), 1341012103709265921, '@RealTina40 The only reason politicians are doing STAGED, FAKE TV vaccinations is to dupe you into thinking they’re just like you and we’re all in this together.\\n\\nNothing could be further from the truth. Remember, Gates, Fauci, the wealthy elite, and royalty will NEVER be subjected to this.', 'pacifist322', 0, 1, 1, 'https://twitter.com/pacifist322/status/1341012103709265921']\n",
      "\n",
      "633 \n",
      " [datetime.datetime(2020, 12, 20, 0, 26, 31, tzinfo=datetime.timezone.utc), 1340453492180303873, '@ABC @OneThingYCD And now brace for all of the conspiracy Qooks to pass their “evidence” around online that these on camera vaccinations are fake, that they’re just getting glucose shots or sth of that sort... George Soros, Bill Gates, The Jews, Antifa, etc, etc...', 'KnightStooge77', 0, 0, 0, 'https://twitter.com/KnightStooge77/status/1340453492180303873']\n",
      "\n",
      "789 \n",
      " [datetime.datetime(2020, 12, 18, 3, 3, 22, tzinfo=datetime.timezone.utc), 1339768187139854341, '@108_Performance @matt_raley I’m just amazed at all of the doctors that are in kahoots with the main stream media, and taking fake vaccinations and filling their hospitals with fake patients to trick us. Bezos, Gates, Soros and the medical community all playing us like puppets! https://t.co/wGSGa9DSQW', 'BerkleyKurtis', 0, 0, 0, 'https://twitter.com/BerkleyKurtis/status/1339768187139854341']\n",
      "\n",
      "919 \n",
      " [datetime.datetime(2020, 12, 13, 21, 13, 14, tzinfo=datetime.timezone.utc), 1338230521470603273, '@SSG_PAIN He knows we won’t take his vaccinations so now he is trying to mess with our meat? Wtf wants fake meat? Bill gates 🖕🏻🖕🏻🖕🏻🖕🏻', 'maryknotts19', 0, 0, 0, 'https://twitter.com/maryknotts19/status/1338230521470603273']\n",
      "\n"
     ]
    }
   ],
   "source": [
    "gates_df = fake_vac_df[fake_vac_df['Text'].apply(lambda str1: fuzzy_match(str1, 'bill gates'))==True]\n",
    "for num in gates_df.index:\n",
    "    print(num, '\\n', fake_vac_tweets_list[num])\n",
    "    print()\n",
    "funny_tweet_list.append(fake_vac_tweets_list[255])\n",
    "funny_tweet_list.append(fake_vac_tweets_list[7])\n",
    "funny_tweet_list.append(fake_vac_tweets_list[67])\n",
    "funny_tweet_list.insert(0, fake_vac_tweets_list[214])\n",
    "funny_tweet_list.append(fake_vac_tweets_list[786])\n",
    "funny_tweet_list.append(fake_vac_tweets_list[920])"
   ]
  },
  {
   "cell_type": "code",
   "execution_count": 101,
   "metadata": {},
   "outputs": [
    {
     "name": "stdout",
     "output_type": "stream",
     "text": [
      "[datetime.datetime(2021, 1, 3, 14, 56, 46, tzinfo=datetime.timezone.utc), 1345745925461913605, \"@realDonaldTrump @CDCgov Any fake narrative to prove to yourself you didn't suck as a leader.  What happened to the 20 million vaccinations in 2020?  Same as the failed supply chain for promised ventilators and N95 masks early in the year.\", 'DBuonocora', 0, 0, 0, 'https://twitter.com/DBuonocora/status/1345745925461913605']\n",
      "\n",
      "[datetime.datetime(2021, 1, 1, 18, 24, 9, tzinfo=datetime.timezone.utc), 1345073341334478848, \"@JoeBiden People aren't getting vaccinated because they don't want it. A virus with a 99.7% survival rate doesn't warrant mass vaccinations. Bottom line, your fear campaign isn't working and like your narrative the people realize you're fake as well.\", 'DonaldSwearin11', 0, 0, 0, 'https://twitter.com/DonaldSwearin11/status/1345073341334478848']\n",
      "\n",
      "[datetime.datetime(2021, 1, 10, 3, 48, 55, tzinfo=datetime.timezone.utc), 1348114571769344001, 'I need a couple of vaccinations. One for Covid and one against the forces of evil - Bill Walton  😂😂😂', 'FakeWYOSports', 0, 0, 0, 'https://twitter.com/FakeWYOSports/status/1348114571769344001']\n",
      "\n",
      "[datetime.datetime(2021, 1, 7, 4, 18, 14, tzinfo=datetime.timezone.utc), 1347034786490183688, \"#mrsam144 #lepetitpoint #zetetique #vaccinations #JeMeFaisVacciner @MonsieurPhi @docprimum @MrSam144 #NoFakesScience\\n❓ Comment ce complotiste a-t-il commencé à changer d'avis ? • Le\\nPetit Point d'? Mr. Sam \\n https://t.co/mtSsC5oJEe via @YouTube\", 'FakesHache', 0, 0, 1, 'https://twitter.com/FakesHache/status/1347034786490183688']\n",
      "\n",
      "[datetime.datetime(2020, 12, 18, 4, 17, 24, tzinfo=datetime.timezone.utc), 1339786820884848641, 'Why do I keep seeing these videos of fake vaccinations?? What is the government trying to hide? https://t.co/qt3aqBTsdt', 'The_DylanMiller', 1, 0, 1, 'https://twitter.com/The_DylanMiller/status/1339786820884848641']\n",
      "\n",
      "[datetime.datetime(2020, 12, 13, 20, 22, 10, tzinfo=datetime.timezone.utc), 1338217670026604544, '@Gontse_GG He just spoke about fake vaccinations and white people they just bring lies', 'king93082935', 0, 0, 0, 'https://twitter.com/king93082935/status/1338217670026604544']\n",
      "\n"
     ]
    }
   ],
   "source": [
    "for tweet in funny_tweet_list:\n",
    "    print(tweet)\n",
    "    print()"
   ]
  },
  {
   "cell_type": "markdown",
   "metadata": {},
   "source": [
    "## Create CSV File"
   ]
  },
  {
   "cell_type": "code",
   "execution_count": 16,
   "metadata": {},
   "outputs": [],
   "source": [
    "text_series = pd.Series(text_list)\n",
    "text_series.to_csv('Tweet_Text.csv')"
   ]
  },
  {
   "cell_type": "code",
   "execution_count": null,
   "metadata": {},
   "outputs": [],
   "source": []
  }
 ],
 "metadata": {
  "kernelspec": {
   "display_name": "Python 3",
   "language": "python",
   "name": "python3"
  },
  "language_info": {
   "codemirror_mode": {
    "name": "ipython",
    "version": 3
   },
   "file_extension": ".py",
   "mimetype": "text/x-python",
   "name": "python",
   "nbconvert_exporter": "python",
   "pygments_lexer": "ipython3",
   "version": "3.8.5"
  }
 },
 "nbformat": 4,
 "nbformat_minor": 4
}
