{
 "cells": [
  {
   "cell_type": "code",
   "execution_count": 1,
   "metadata": {},
   "outputs": [],
   "source": [
    "#Imports\n",
    "import pandas as pd\n",
    "import snscrape.modules.twitter as sntwitter"
   ]
  },
  {
   "cell_type": "code",
   "execution_count": 2,
   "metadata": {},
   "outputs": [],
   "source": [
    "#Initialize Tweet List\n",
    "rig_tweets_list = []\n",
    "funny_tweet_list = []\n",
    "text_list = []"
   ]
  },
  {
   "cell_type": "code",
   "execution_count": 3,
   "metadata": {},
   "outputs": [],
   "source": [
    "#Pull tweets from Twitter API that contain \"Fake vaccinations\" in text of post\n",
    "for i, tweet in enumerate(sntwitter.TwitterSearchScraper('Rigged Election').get_items()):\n",
    "    if i > 999:\n",
    "        break\n",
    "    rig_tweets_list.append([tweet.date, tweet.id, tweet.content, tweet.user.username, tweet.replyCount, tweet.retweetCount, tweet.likeCount, tweet.url])\n",
    "    text_list.append(tweet.content)"
   ]
  },
  {
   "cell_type": "code",
   "execution_count": 4,
   "metadata": {},
   "outputs": [],
   "source": [
    "#Create DataFrame\n",
    "rig_df = pd.DataFrame(rig_tweets_list, columns=['Datetime', 'Tweet Id', 'Text', 'Username', 'Reply Count', 'Retweet Count', 'Like Count', 'URL'])"
   ]
  },
  {
   "cell_type": "code",
   "execution_count": 5,
   "metadata": {},
   "outputs": [
    {
     "data": {
      "text/html": [
       "<div>\n",
       "<style scoped>\n",
       "    .dataframe tbody tr th:only-of-type {\n",
       "        vertical-align: middle;\n",
       "    }\n",
       "\n",
       "    .dataframe tbody tr th {\n",
       "        vertical-align: top;\n",
       "    }\n",
       "\n",
       "    .dataframe thead th {\n",
       "        text-align: right;\n",
       "    }\n",
       "</style>\n",
       "<table border=\"1\" class=\"dataframe\">\n",
       "  <thead>\n",
       "    <tr style=\"text-align: right;\">\n",
       "      <th></th>\n",
       "      <th>Datetime</th>\n",
       "      <th>Tweet Id</th>\n",
       "      <th>Text</th>\n",
       "      <th>Username</th>\n",
       "      <th>Reply Count</th>\n",
       "      <th>Retweet Count</th>\n",
       "      <th>Like Count</th>\n",
       "      <th>URL</th>\n",
       "    </tr>\n",
       "  </thead>\n",
       "  <tbody>\n",
       "    <tr>\n",
       "      <th>0</th>\n",
       "      <td>2021-01-10 19:54:58+00:00</td>\n",
       "      <td>1348357688493707264</td>\n",
       "      <td>@sensanders as a trump supporter i support thi...</td>\n",
       "      <td>PPennypacker</td>\n",
       "      <td>0</td>\n",
       "      <td>0</td>\n",
       "      <td>0</td>\n",
       "      <td>https://twitter.com/PPennypacker/status/134835...</td>\n",
       "    </tr>\n",
       "    <tr>\n",
       "      <th>1</th>\n",
       "      <td>2021-01-10 19:54:45+00:00</td>\n",
       "      <td>1348357630696312832</td>\n",
       "      <td>they said they won the election. they lied, th...</td>\n",
       "      <td>mozzy29</td>\n",
       "      <td>0</td>\n",
       "      <td>0</td>\n",
       "      <td>0</td>\n",
       "      <td>https://twitter.com/mozzy29/status/13483576306...</td>\n",
       "    </tr>\n",
       "    <tr>\n",
       "      <th>2</th>\n",
       "      <td>2021-01-10 19:54:38+00:00</td>\n",
       "      <td>1348357603701657600</td>\n",
       "      <td>@tnmtnlake @mattgaetz and still no proof the e...</td>\n",
       "      <td>ClownShifty</td>\n",
       "      <td>0</td>\n",
       "      <td>0</td>\n",
       "      <td>0</td>\n",
       "      <td>https://twitter.com/ClownShifty/status/1348357...</td>\n",
       "    </tr>\n",
       "    <tr>\n",
       "      <th>3</th>\n",
       "      <td>2021-01-10 19:54:21+00:00</td>\n",
       "      <td>1348357532427771905</td>\n",
       "      <td>@dc_draino @barrymoore remember when obama cla...</td>\n",
       "      <td>rickmur77</td>\n",
       "      <td>0</td>\n",
       "      <td>0</td>\n",
       "      <td>0</td>\n",
       "      <td>https://twitter.com/rickmur77/status/134835753...</td>\n",
       "    </tr>\n",
       "    <tr>\n",
       "      <th>4</th>\n",
       "      <td>2021-01-10 19:54:19+00:00</td>\n",
       "      <td>1348357522185478145</td>\n",
       "      <td>@senrobportman hey, what about those election ...</td>\n",
       "      <td>Superstitionsee</td>\n",
       "      <td>0</td>\n",
       "      <td>0</td>\n",
       "      <td>0</td>\n",
       "      <td>https://twitter.com/Superstitionsee/status/134...</td>\n",
       "    </tr>\n",
       "    <tr>\n",
       "      <th>...</th>\n",
       "      <td>...</td>\n",
       "      <td>...</td>\n",
       "      <td>...</td>\n",
       "      <td>...</td>\n",
       "      <td>...</td>\n",
       "      <td>...</td>\n",
       "      <td>...</td>\n",
       "      <td>...</td>\n",
       "    </tr>\n",
       "    <tr>\n",
       "      <th>995</th>\n",
       "      <td>2021-01-10 17:11:39+00:00</td>\n",
       "      <td>1348316587162439681</td>\n",
       "      <td>i hope when the truth comes out about all the ...</td>\n",
       "      <td>joannemulatz</td>\n",
       "      <td>0</td>\n",
       "      <td>0</td>\n",
       "      <td>0</td>\n",
       "      <td>https://twitter.com/joannemulatz/status/134831...</td>\n",
       "    </tr>\n",
       "    <tr>\n",
       "      <th>996</th>\n",
       "      <td>2021-01-10 17:11:37+00:00</td>\n",
       "      <td>1348316577599516672</td>\n",
       "      <td>@stevenespears1 and we need to also observe th...</td>\n",
       "      <td>JohnWesleyShipp</td>\n",
       "      <td>2</td>\n",
       "      <td>0</td>\n",
       "      <td>0</td>\n",
       "      <td>https://twitter.com/JohnWesleyShipp/status/134...</td>\n",
       "    </tr>\n",
       "    <tr>\n",
       "      <th>997</th>\n",
       "      <td>2021-01-10 17:10:57+00:00</td>\n",
       "      <td>1348316409672163330</td>\n",
       "      <td>@withakwoww @bbcnews wrong he did not incite v...</td>\n",
       "      <td>davidvikingflag</td>\n",
       "      <td>0</td>\n",
       "      <td>0</td>\n",
       "      <td>0</td>\n",
       "      <td>https://twitter.com/davidvikingflag/status/134...</td>\n",
       "    </tr>\n",
       "    <tr>\n",
       "      <th>998</th>\n",
       "      <td>2021-01-10 17:10:50+00:00</td>\n",
       "      <td>1348316380102184960</td>\n",
       "      <td>@erictrump i don't know if you really believe ...</td>\n",
       "      <td>AllenWa05868938</td>\n",
       "      <td>0</td>\n",
       "      <td>0</td>\n",
       "      <td>0</td>\n",
       "      <td>https://twitter.com/AllenWa05868938/status/134...</td>\n",
       "    </tr>\n",
       "    <tr>\n",
       "      <th>999</th>\n",
       "      <td>2021-01-10 17:10:48+00:00</td>\n",
       "      <td>1348316374918189060</td>\n",
       "      <td>@bill_blasky @terryfoster971 i think the jury ...</td>\n",
       "      <td>1234alldayDon</td>\n",
       "      <td>1</td>\n",
       "      <td>0</td>\n",
       "      <td>0</td>\n",
       "      <td>https://twitter.com/1234alldayDon/status/13483...</td>\n",
       "    </tr>\n",
       "  </tbody>\n",
       "</table>\n",
       "<p>1000 rows × 8 columns</p>\n",
       "</div>"
      ],
      "text/plain": [
       "                     Datetime             Tweet Id  \\\n",
       "0   2021-01-10 19:54:58+00:00  1348357688493707264   \n",
       "1   2021-01-10 19:54:45+00:00  1348357630696312832   \n",
       "2   2021-01-10 19:54:38+00:00  1348357603701657600   \n",
       "3   2021-01-10 19:54:21+00:00  1348357532427771905   \n",
       "4   2021-01-10 19:54:19+00:00  1348357522185478145   \n",
       "..                        ...                  ...   \n",
       "995 2021-01-10 17:11:39+00:00  1348316587162439681   \n",
       "996 2021-01-10 17:11:37+00:00  1348316577599516672   \n",
       "997 2021-01-10 17:10:57+00:00  1348316409672163330   \n",
       "998 2021-01-10 17:10:50+00:00  1348316380102184960   \n",
       "999 2021-01-10 17:10:48+00:00  1348316374918189060   \n",
       "\n",
       "                                                  Text         Username  \\\n",
       "0    @sensanders as a trump supporter i support thi...     PPennypacker   \n",
       "1    they said they won the election. they lied, th...          mozzy29   \n",
       "2    @tnmtnlake @mattgaetz and still no proof the e...      ClownShifty   \n",
       "3    @dc_draino @barrymoore remember when obama cla...        rickmur77   \n",
       "4    @senrobportman hey, what about those election ...  Superstitionsee   \n",
       "..                                                 ...              ...   \n",
       "995  i hope when the truth comes out about all the ...     joannemulatz   \n",
       "996  @stevenespears1 and we need to also observe th...  JohnWesleyShipp   \n",
       "997  @withakwoww @bbcnews wrong he did not incite v...  davidvikingflag   \n",
       "998  @erictrump i don't know if you really believe ...  AllenWa05868938   \n",
       "999  @bill_blasky @terryfoster971 i think the jury ...    1234alldayDon   \n",
       "\n",
       "     Reply Count  Retweet Count  Like Count  \\\n",
       "0              0              0           0   \n",
       "1              0              0           0   \n",
       "2              0              0           0   \n",
       "3              0              0           0   \n",
       "4              0              0           0   \n",
       "..           ...            ...         ...   \n",
       "995            0              0           0   \n",
       "996            2              0           0   \n",
       "997            0              0           0   \n",
       "998            0              0           0   \n",
       "999            1              0           0   \n",
       "\n",
       "                                                   URL  \n",
       "0    https://twitter.com/PPennypacker/status/134835...  \n",
       "1    https://twitter.com/mozzy29/status/13483576306...  \n",
       "2    https://twitter.com/ClownShifty/status/1348357...  \n",
       "3    https://twitter.com/rickmur77/status/134835753...  \n",
       "4    https://twitter.com/Superstitionsee/status/134...  \n",
       "..                                                 ...  \n",
       "995  https://twitter.com/joannemulatz/status/134831...  \n",
       "996  https://twitter.com/JohnWesleyShipp/status/134...  \n",
       "997  https://twitter.com/davidvikingflag/status/134...  \n",
       "998  https://twitter.com/AllenWa05868938/status/134...  \n",
       "999  https://twitter.com/1234alldayDon/status/13483...  \n",
       "\n",
       "[1000 rows x 8 columns]"
      ]
     },
     "execution_count": 5,
     "metadata": {},
     "output_type": "execute_result"
    }
   ],
   "source": [
    "#Convert Text column to lowercase for searching purposes\n",
    "rig_df['Text'] = rig_df['Text'].str.lower()\n",
    "rig_df"
   ]
  },
  {
   "cell_type": "code",
   "execution_count": 6,
   "metadata": {},
   "outputs": [
    {
     "name": "stderr",
     "output_type": "stream",
     "text": [
      "/opt/anaconda3/lib/python3.8/site-packages/fuzzywuzzy/fuzz.py:11: UserWarning: Using slow pure-python SequenceMatcher. Install python-Levenshtein to remove this warning\n",
      "  warnings.warn('Using slow pure-python SequenceMatcher. Install python-Levenshtein to remove this warning')\n"
     ]
    }
   ],
   "source": [
    "#Imports\n",
    "from fuzzywuzzy import fuzz"
   ]
  },
  {
   "cell_type": "code",
   "execution_count": 7,
   "metadata": {},
   "outputs": [],
   "source": [
    "#Method to determine if fuzzymatch or not\n",
    "def fuzzy_match(str1: str, str2: str) -> bool:\n",
    "    token_set_ratio = fuzz.token_set_ratio(str1, str2)\n",
    "    if str2 in str1:\n",
    "        return True\n",
    "    if token_set_ratio > 55:\n",
    "        return True\n",
    "    else:\n",
    "        return False"
   ]
  },
  {
   "cell_type": "code",
   "execution_count": 8,
   "metadata": {},
   "outputs": [
    {
     "name": "stdout",
     "output_type": "stream",
     "text": [
      "22 363 63 123 78 323 340\n"
     ]
    }
   ],
   "source": [
    "fake_num = rig_df['Text'][rig_df['Text'].apply(lambda str1: fuzzy_match(str1, 'fake'))==True].count()\n",
    "trump_num = rig_df['Text'][rig_df['Text'].apply(lambda str1: fuzzy_match(str1, 'trump'))==True].count()\n",
    "stolen_num = rig_df['Text'][rig_df['Text'].apply(lambda str1: fuzzy_match(str1, 'stolen'))==True].count()\n",
    "biden_lost_num = rig_df['Text'][rig_df['Text'].apply(lambda str1: fuzzy_match(str1, 'biden lost'))==True].count()\n",
    "biden_won_num = rig_df['Text'][rig_df['Text'].apply(lambda str1: fuzzy_match(str1, 'biden won'))==True].count()\n",
    "trump_won_num = rig_df['Text'][rig_df['Text'].apply(lambda str1: fuzzy_match(str1, 'trump won'))==True].count()\n",
    "trump_lost_num = rig_df['Text'][rig_df['Text'].apply(lambda str1: fuzzy_match(str1, 'trump lost'))==True].count()\n",
    "print(fake_num, trump_num, stolen_num, biden_lost_num, biden_won_num, trump_won_num, trump_lost_num)"
   ]
  },
  {
   "cell_type": "code",
   "execution_count": 9,
   "metadata": {},
   "outputs": [
    {
     "data": {
      "image/png": "[encoded data removed]",
      "text/plain": [
       "<Figure size 432x288 with 1 Axes>"
      ]
     },
     "metadata": {
      "needs_background": "light"
     },
     "output_type": "display_data"
    }
   ],
   "source": [
    "import matplotlib.pyplot as plt\n",
    "\n",
    "\n",
    "labels = ['Trump', 'Biden']\n",
    "won_nums = [trump_won_num, biden_won_num]\n",
    "lost_nums = [trump_lost_num, biden_lost_num]\n",
    "width = 0.5       # the width of the bars: can also be len(x) sequence\n",
    "fig, ax = plt.subplots()\n",
    "\n",
    "ax.bar(labels, won_nums, width, label='Won', edgecolor='black')\n",
    "ax.bar(labels, lost_nums, width, bottom=won_nums, label='Lost', edgecolor='black')\n",
    "\n",
    "ax.set_ylabel('Tweets')\n",
    "ax.set_title('1000 Tweets Containing Rigged Election')\n",
    "ax.legend()\n",
    "\n",
    "plt.show()"
   ]
  },
  {
   "cell_type": "code",
   "execution_count": 10,
   "metadata": {},
   "outputs": [
    {
     "data": {
      "image/png": "[encoded data removed]",
      "text/plain": [
       "<Figure size 432x288 with 1 Axes>"
      ]
     },
     "metadata": {},
     "output_type": "display_data"
    }
   ],
   "source": [
    "import matplotlib.pyplot as plt\n",
    "\n",
    "# Pie chart, where the slices will be ordered and plotted counter-clockwise:\n",
    "sum = trump_won_num + trump_lost_num + biden_won_num + biden_lost_num\n",
    "labels = 'Trump Won', 'Trump Lost', 'Biden Won', 'Biden Lost'\n",
    "sizes = [100 * trump_won_num / sum, 100 * trump_lost_num / sum, 100 * biden_won_num / sum, 100 * biden_lost_num / sum]\n",
    "explode = (0.1, 0, 0, 0) \n",
    "\n",
    "fig1, ax1 = plt.subplots()\n",
    "ax1.pie(sizes, explode=explode, labels=labels, autopct='%1.1f%%',\n",
    "        shadow=True, startangle=90)\n",
    "ax1.axis('equal')  # Equal aspect ratio ensures that pie is drawn as a circle.\n",
    "ax1.set_title('Tweets that Mention Election Outcome and Rigged Election')\n",
    "plt.show()"
   ]
  },
  {
   "cell_type": "code",
   "execution_count": null,
   "metadata": {},
   "outputs": [],
   "source": []
  }
 ],
 "metadata": {
  "kernelspec": {
   "display_name": "Python 3",
   "language": "python",
   "name": "python3"
  },
  "language_info": {
   "codemirror_mode": {
    "name": "ipython",
    "version": 3
   },
   "file_extension": ".py",
   "mimetype": "text/x-python",
   "name": "python",
   "nbconvert_exporter": "python",
   "pygments_lexer": "ipython3",
   "version": "3.8.5"
  }
 },
 "nbformat": 4,
 "nbformat_minor": 4
}
